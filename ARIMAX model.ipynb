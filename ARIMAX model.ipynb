{
 "cells": [
  {
   "cell_type": "code",
   "execution_count": 62,
   "id": "6e439ef5",
   "metadata": {},
   "outputs": [],
   "source": [
    "import numpy as np\n",
    "import pandas as pd\n",
    "import matplotlib.pyplot as plt\n",
    "from sklearn.metrics import mean_squared_error, mean_absolute_error"
   ]
  },
  {
   "cell_type": "code",
   "execution_count": 63,
   "id": "b2c09a80",
   "metadata": {},
   "outputs": [],
   "source": [
    "raw_data = pd.read_csv('generated_values.csv')\n",
    "df = raw_data.copy()"
   ]
  },
  {
   "cell_type": "code",
   "execution_count": 64,
   "id": "99cce452",
   "metadata": {},
   "outputs": [
    {
     "data": {
      "text/plain": [
       "(1000, 6)"
      ]
     },
     "execution_count": 64,
     "metadata": {},
     "output_type": "execute_result"
    }
   ],
   "source": [
    "raw_data.shape"
   ]
  },
  {
   "cell_type": "code",
   "execution_count": 65,
   "id": "14d11022",
   "metadata": {},
   "outputs": [
    {
     "data": {
      "text/html": [
       "<div>\n",
       "<style scoped>\n",
       "    .dataframe tbody tr th:only-of-type {\n",
       "        vertical-align: middle;\n",
       "    }\n",
       "\n",
       "    .dataframe tbody tr th {\n",
       "        vertical-align: top;\n",
       "    }\n",
       "\n",
       "    .dataframe thead th {\n",
       "        text-align: right;\n",
       "    }\n",
       "</style>\n",
       "<table border=\"1\" class=\"dataframe\">\n",
       "  <thead>\n",
       "    <tr style=\"text-align: right;\">\n",
       "      <th></th>\n",
       "      <th>fin_record_key</th>\n",
       "      <th>fin_debit_credit_ind</th>\n",
       "      <th>fin_company_id</th>\n",
       "      <th>fin_trans_dt</th>\n",
       "      <th>fin_source_amt</th>\n",
       "      <th>fin_acct_num</th>\n",
       "    </tr>\n",
       "  </thead>\n",
       "  <tbody>\n",
       "    <tr>\n",
       "      <th>0</th>\n",
       "      <td>2693259</td>\n",
       "      <td>c</td>\n",
       "      <td>1936</td>\n",
       "      <td>2024-06-21</td>\n",
       "      <td>179.73</td>\n",
       "      <td>6011231234567890</td>\n",
       "    </tr>\n",
       "    <tr>\n",
       "      <th>1</th>\n",
       "      <td>5264506</td>\n",
       "      <td>d</td>\n",
       "      <td>1936</td>\n",
       "      <td>2024-11-25</td>\n",
       "      <td>450.87</td>\n",
       "      <td>6011231234567890</td>\n",
       "    </tr>\n",
       "    <tr>\n",
       "      <th>2</th>\n",
       "      <td>1857073</td>\n",
       "      <td>c</td>\n",
       "      <td>1936</td>\n",
       "      <td>2024-09-05</td>\n",
       "      <td>238.07</td>\n",
       "      <td>3782891012345678</td>\n",
       "    </tr>\n",
       "    <tr>\n",
       "      <th>3</th>\n",
       "      <td>1609887</td>\n",
       "      <td>c</td>\n",
       "      <td>1936</td>\n",
       "      <td>2024-06-30</td>\n",
       "      <td>210.59</td>\n",
       "      <td>4929173901234567</td>\n",
       "    </tr>\n",
       "    <tr>\n",
       "      <th>4</th>\n",
       "      <td>8234346</td>\n",
       "      <td>c</td>\n",
       "      <td>1936</td>\n",
       "      <td>2024-09-10</td>\n",
       "      <td>283.52</td>\n",
       "      <td>6011231234567890</td>\n",
       "    </tr>\n",
       "  </tbody>\n",
       "</table>\n",
       "</div>"
      ],
      "text/plain": [
       "   fin_record_key fin_debit_credit_ind  fin_company_id fin_trans_dt  \\\n",
       "0         2693259                    c            1936   2024-06-21   \n",
       "1         5264506                    d            1936   2024-11-25   \n",
       "2         1857073                    c            1936   2024-09-05   \n",
       "3         1609887                    c            1936   2024-06-30   \n",
       "4         8234346                    c            1936   2024-09-10   \n",
       "\n",
       "   fin_source_amt      fin_acct_num  \n",
       "0          179.73  6011231234567890  \n",
       "1          450.87  6011231234567890  \n",
       "2          238.07  3782891012345678  \n",
       "3          210.59  4929173901234567  \n",
       "4          283.52  6011231234567890  "
      ]
     },
     "execution_count": 65,
     "metadata": {},
     "output_type": "execute_result"
    }
   ],
   "source": [
    "df.head()"
   ]
  },
  {
   "cell_type": "code",
   "execution_count": 66,
   "id": "3b835921",
   "metadata": {},
   "outputs": [
    {
     "name": "stdout",
     "output_type": "stream",
     "text": [
      "<class 'pandas.core.frame.DataFrame'>\n",
      "RangeIndex: 1000 entries, 0 to 999\n",
      "Data columns (total 6 columns):\n",
      " #   Column                Non-Null Count  Dtype  \n",
      "---  ------                --------------  -----  \n",
      " 0   fin_record_key        1000 non-null   int64  \n",
      " 1   fin_debit_credit_ind  1000 non-null   object \n",
      " 2   fin_company_id        1000 non-null   int64  \n",
      " 3   fin_trans_dt          1000 non-null   object \n",
      " 4   fin_source_amt        1000 non-null   float64\n",
      " 5   fin_acct_num          1000 non-null   int64  \n",
      "dtypes: float64(1), int64(3), object(2)\n",
      "memory usage: 47.0+ KB\n"
     ]
    }
   ],
   "source": [
    "df.info()"
   ]
  },
  {
   "cell_type": "code",
   "execution_count": 67,
   "id": "481bf532",
   "metadata": {},
   "outputs": [
    {
     "data": {
      "text/plain": [
       "(1000, 6)"
      ]
     },
     "execution_count": 67,
     "metadata": {},
     "output_type": "execute_result"
    }
   ],
   "source": [
    "df.shape"
   ]
  },
  {
   "cell_type": "code",
   "execution_count": 68,
   "id": "1515cbf0",
   "metadata": {},
   "outputs": [],
   "source": [
    "df.drop('fin_debit_credit_ind',axis=1,inplace=True)"
   ]
  },
  {
   "cell_type": "code",
   "execution_count": 69,
   "id": "cdf52477",
   "metadata": {},
   "outputs": [
    {
     "data": {
      "text/html": [
       "<div>\n",
       "<style scoped>\n",
       "    .dataframe tbody tr th:only-of-type {\n",
       "        vertical-align: middle;\n",
       "    }\n",
       "\n",
       "    .dataframe tbody tr th {\n",
       "        vertical-align: top;\n",
       "    }\n",
       "\n",
       "    .dataframe thead th {\n",
       "        text-align: right;\n",
       "    }\n",
       "</style>\n",
       "<table border=\"1\" class=\"dataframe\">\n",
       "  <thead>\n",
       "    <tr style=\"text-align: right;\">\n",
       "      <th></th>\n",
       "      <th>fin_record_key</th>\n",
       "      <th>fin_company_id</th>\n",
       "      <th>fin_trans_dt</th>\n",
       "      <th>fin_source_amt</th>\n",
       "      <th>fin_acct_num</th>\n",
       "    </tr>\n",
       "  </thead>\n",
       "  <tbody>\n",
       "    <tr>\n",
       "      <th>0</th>\n",
       "      <td>2693259</td>\n",
       "      <td>1936</td>\n",
       "      <td>2024-06-21</td>\n",
       "      <td>179.73</td>\n",
       "      <td>6011231234567890</td>\n",
       "    </tr>\n",
       "    <tr>\n",
       "      <th>1</th>\n",
       "      <td>5264506</td>\n",
       "      <td>1936</td>\n",
       "      <td>2024-11-25</td>\n",
       "      <td>450.87</td>\n",
       "      <td>6011231234567890</td>\n",
       "    </tr>\n",
       "    <tr>\n",
       "      <th>2</th>\n",
       "      <td>1857073</td>\n",
       "      <td>1936</td>\n",
       "      <td>2024-09-05</td>\n",
       "      <td>238.07</td>\n",
       "      <td>3782891012345678</td>\n",
       "    </tr>\n",
       "    <tr>\n",
       "      <th>3</th>\n",
       "      <td>1609887</td>\n",
       "      <td>1936</td>\n",
       "      <td>2024-06-30</td>\n",
       "      <td>210.59</td>\n",
       "      <td>4929173901234567</td>\n",
       "    </tr>\n",
       "    <tr>\n",
       "      <th>4</th>\n",
       "      <td>8234346</td>\n",
       "      <td>1936</td>\n",
       "      <td>2024-09-10</td>\n",
       "      <td>283.52</td>\n",
       "      <td>6011231234567890</td>\n",
       "    </tr>\n",
       "  </tbody>\n",
       "</table>\n",
       "</div>"
      ],
      "text/plain": [
       "   fin_record_key  fin_company_id fin_trans_dt  fin_source_amt  \\\n",
       "0         2693259            1936   2024-06-21          179.73   \n",
       "1         5264506            1936   2024-11-25          450.87   \n",
       "2         1857073            1936   2024-09-05          238.07   \n",
       "3         1609887            1936   2024-06-30          210.59   \n",
       "4         8234346            1936   2024-09-10          283.52   \n",
       "\n",
       "       fin_acct_num  \n",
       "0  6011231234567890  \n",
       "1  6011231234567890  \n",
       "2  3782891012345678  \n",
       "3  4929173901234567  \n",
       "4  6011231234567890  "
      ]
     },
     "execution_count": 69,
     "metadata": {},
     "output_type": "execute_result"
    }
   ],
   "source": [
    "df.head()"
   ]
  },
  {
   "cell_type": "code",
   "execution_count": 70,
   "id": "e36c54db",
   "metadata": {},
   "outputs": [
    {
     "data": {
      "text/plain": [
       "3"
      ]
     },
     "execution_count": 70,
     "metadata": {},
     "output_type": "execute_result"
    }
   ],
   "source": [
    "df.fin_acct_num.nunique()"
   ]
  },
  {
   "cell_type": "code",
   "execution_count": 71,
   "id": "b0adb678",
   "metadata": {},
   "outputs": [],
   "source": [
    "df['fin_trans_dt'] = pd.to_datetime(df['fin_trans_dt'])\n",
    "result = df.groupby([df['fin_trans_dt'], 'fin_company_id']).agg({'fin_source_amt': 'sum', 'fin_company_id': 'count'}).rename(columns={'fin_source_amt': 'Sum_amt', 'fin_company_id': 'Count'}).reset_index()"
   ]
  },
  {
   "cell_type": "code",
   "execution_count": 72,
   "id": "a2e78a7d",
   "metadata": {},
   "outputs": [
    {
     "data": {
      "text/html": [
       "<div>\n",
       "<style scoped>\n",
       "    .dataframe tbody tr th:only-of-type {\n",
       "        vertical-align: middle;\n",
       "    }\n",
       "\n",
       "    .dataframe tbody tr th {\n",
       "        vertical-align: top;\n",
       "    }\n",
       "\n",
       "    .dataframe thead th {\n",
       "        text-align: right;\n",
       "    }\n",
       "</style>\n",
       "<table border=\"1\" class=\"dataframe\">\n",
       "  <thead>\n",
       "    <tr style=\"text-align: right;\">\n",
       "      <th></th>\n",
       "      <th>fin_trans_dt</th>\n",
       "      <th>fin_company_id</th>\n",
       "      <th>Sum_amt</th>\n",
       "      <th>Count</th>\n",
       "    </tr>\n",
       "  </thead>\n",
       "  <tbody>\n",
       "    <tr>\n",
       "      <th>0</th>\n",
       "      <td>2024-01-01</td>\n",
       "      <td>1936</td>\n",
       "      <td>908.73</td>\n",
       "      <td>3</td>\n",
       "    </tr>\n",
       "    <tr>\n",
       "      <th>1</th>\n",
       "      <td>2024-01-01</td>\n",
       "      <td>2001</td>\n",
       "      <td>318.81</td>\n",
       "      <td>1</td>\n",
       "    </tr>\n",
       "    <tr>\n",
       "      <th>2</th>\n",
       "      <td>2024-01-02</td>\n",
       "      <td>1936</td>\n",
       "      <td>881.78</td>\n",
       "      <td>2</td>\n",
       "    </tr>\n",
       "    <tr>\n",
       "      <th>3</th>\n",
       "      <td>2024-01-02</td>\n",
       "      <td>2001</td>\n",
       "      <td>1082.13</td>\n",
       "      <td>3</td>\n",
       "    </tr>\n",
       "    <tr>\n",
       "      <th>4</th>\n",
       "      <td>2024-01-03</td>\n",
       "      <td>1936</td>\n",
       "      <td>623.17</td>\n",
       "      <td>2</td>\n",
       "    </tr>\n",
       "  </tbody>\n",
       "</table>\n",
       "</div>"
      ],
      "text/plain": [
       "  fin_trans_dt  fin_company_id  Sum_amt  Count\n",
       "0   2024-01-01            1936   908.73      3\n",
       "1   2024-01-01            2001   318.81      1\n",
       "2   2024-01-02            1936   881.78      2\n",
       "3   2024-01-02            2001  1082.13      3\n",
       "4   2024-01-03            1936   623.17      2"
      ]
     },
     "execution_count": 72,
     "metadata": {},
     "output_type": "execute_result"
    }
   ],
   "source": [
    "result.head()"
   ]
  },
  {
   "cell_type": "code",
   "execution_count": 73,
   "id": "68754185",
   "metadata": {
    "scrolled": true
   },
   "outputs": [
    {
     "data": {
      "text/plain": [
       "(564, 4)"
      ]
     },
     "execution_count": 73,
     "metadata": {},
     "output_type": "execute_result"
    }
   ],
   "source": [
    "result.shape"
   ]
  },
  {
   "cell_type": "code",
   "execution_count": 74,
   "id": "59c68fcb",
   "metadata": {},
   "outputs": [],
   "source": [
    "unique_ids = df['fin_company_id'].unique()"
   ]
  },
  {
   "cell_type": "code",
   "execution_count": 75,
   "id": "8c50dddb",
   "metadata": {},
   "outputs": [],
   "source": [
    "dfs = {}\n",
    "for company_id in unique_ids:\n",
    "    dfs[company_id] = result[result['fin_company_id'] == company_id]"
   ]
  },
  {
   "cell_type": "code",
   "execution_count": 76,
   "id": "303aa236",
   "metadata": {},
   "outputs": [],
   "source": [
    "df_1 = dfs[1936]"
   ]
  },
  {
   "cell_type": "code",
   "execution_count": 77,
   "id": "da3a18aa",
   "metadata": {},
   "outputs": [],
   "source": [
    "df_2 = dfs[2001]"
   ]
  },
  {
   "cell_type": "code",
   "execution_count": 78,
   "id": "7bdca093",
   "metadata": {},
   "outputs": [
    {
     "data": {
      "text/plain": [
       "(283, 4)"
      ]
     },
     "execution_count": 78,
     "metadata": {},
     "output_type": "execute_result"
    }
   ],
   "source": [
    "df_1.shape"
   ]
  },
  {
   "cell_type": "code",
   "execution_count": 79,
   "id": "60ad8ae7",
   "metadata": {},
   "outputs": [
    {
     "data": {
      "text/plain": [
       "(281, 4)"
      ]
     },
     "execution_count": 79,
     "metadata": {},
     "output_type": "execute_result"
    }
   ],
   "source": [
    "df_2.shape"
   ]
  },
  {
   "cell_type": "code",
   "execution_count": 80,
   "id": "02ea031c",
   "metadata": {},
   "outputs": [],
   "source": [
    "df_1 = df_1.sort_values('fin_trans_dt')"
   ]
  },
  {
   "cell_type": "code",
   "execution_count": 81,
   "id": "1fce79aa",
   "metadata": {},
   "outputs": [],
   "source": [
    "df_1.set_index('fin_trans_dt',inplace=True)"
   ]
  },
  {
   "cell_type": "code",
   "execution_count": 21,
   "id": "2b06f6fe",
   "metadata": {},
   "outputs": [
    {
     "data": {
      "text/html": [
       "<div>\n",
       "<style scoped>\n",
       "    .dataframe tbody tr th:only-of-type {\n",
       "        vertical-align: middle;\n",
       "    }\n",
       "\n",
       "    .dataframe tbody tr th {\n",
       "        vertical-align: top;\n",
       "    }\n",
       "\n",
       "    .dataframe thead th {\n",
       "        text-align: right;\n",
       "    }\n",
       "</style>\n",
       "<table border=\"1\" class=\"dataframe\">\n",
       "  <thead>\n",
       "    <tr style=\"text-align: right;\">\n",
       "      <th></th>\n",
       "      <th>fin_company_id</th>\n",
       "      <th>Sum_amt</th>\n",
       "      <th>Count</th>\n",
       "    </tr>\n",
       "    <tr>\n",
       "      <th>fin_trans_dt</th>\n",
       "      <th></th>\n",
       "      <th></th>\n",
       "      <th></th>\n",
       "    </tr>\n",
       "  </thead>\n",
       "  <tbody>\n",
       "    <tr>\n",
       "      <th>2024-01-01</th>\n",
       "      <td>1936</td>\n",
       "      <td>908.73</td>\n",
       "      <td>3</td>\n",
       "    </tr>\n",
       "    <tr>\n",
       "      <th>2024-01-02</th>\n",
       "      <td>1936</td>\n",
       "      <td>881.78</td>\n",
       "      <td>2</td>\n",
       "    </tr>\n",
       "    <tr>\n",
       "      <th>2024-01-03</th>\n",
       "      <td>1936</td>\n",
       "      <td>623.17</td>\n",
       "      <td>2</td>\n",
       "    </tr>\n",
       "    <tr>\n",
       "      <th>2024-01-05</th>\n",
       "      <td>1936</td>\n",
       "      <td>637.33</td>\n",
       "      <td>2</td>\n",
       "    </tr>\n",
       "    <tr>\n",
       "      <th>2024-01-09</th>\n",
       "      <td>1936</td>\n",
       "      <td>36.36</td>\n",
       "      <td>1</td>\n",
       "    </tr>\n",
       "  </tbody>\n",
       "</table>\n",
       "</div>"
      ],
      "text/plain": [
       "              fin_company_id  Sum_amt  Count\n",
       "fin_trans_dt                                \n",
       "2024-01-01              1936   908.73      3\n",
       "2024-01-02              1936   881.78      2\n",
       "2024-01-03              1936   623.17      2\n",
       "2024-01-05              1936   637.33      2\n",
       "2024-01-09              1936    36.36      1"
      ]
     },
     "execution_count": 21,
     "metadata": {},
     "output_type": "execute_result"
    }
   ],
   "source": [
    "df_1.head()"
   ]
  },
  {
   "cell_type": "code",
   "execution_count": 22,
   "id": "fca8e385",
   "metadata": {},
   "outputs": [],
   "source": [
    "df_1 = df_1.asfreq('d')\n",
    "# data_3 = data_3.fillna(method='ffill')"
   ]
  },
  {
   "cell_type": "code",
   "execution_count": 23,
   "id": "a5fce429",
   "metadata": {},
   "outputs": [
    {
     "data": {
      "text/html": [
       "<div>\n",
       "<style scoped>\n",
       "    .dataframe tbody tr th:only-of-type {\n",
       "        vertical-align: middle;\n",
       "    }\n",
       "\n",
       "    .dataframe tbody tr th {\n",
       "        vertical-align: top;\n",
       "    }\n",
       "\n",
       "    .dataframe thead th {\n",
       "        text-align: right;\n",
       "    }\n",
       "</style>\n",
       "<table border=\"1\" class=\"dataframe\">\n",
       "  <thead>\n",
       "    <tr style=\"text-align: right;\">\n",
       "      <th></th>\n",
       "      <th>fin_company_id</th>\n",
       "      <th>Sum_amt</th>\n",
       "      <th>Count</th>\n",
       "    </tr>\n",
       "    <tr>\n",
       "      <th>fin_trans_dt</th>\n",
       "      <th></th>\n",
       "      <th></th>\n",
       "      <th></th>\n",
       "    </tr>\n",
       "  </thead>\n",
       "  <tbody>\n",
       "    <tr>\n",
       "      <th>2024-01-01</th>\n",
       "      <td>1936.0</td>\n",
       "      <td>908.73</td>\n",
       "      <td>3.0</td>\n",
       "    </tr>\n",
       "    <tr>\n",
       "      <th>2024-01-02</th>\n",
       "      <td>1936.0</td>\n",
       "      <td>881.78</td>\n",
       "      <td>2.0</td>\n",
       "    </tr>\n",
       "    <tr>\n",
       "      <th>2024-01-03</th>\n",
       "      <td>1936.0</td>\n",
       "      <td>623.17</td>\n",
       "      <td>2.0</td>\n",
       "    </tr>\n",
       "    <tr>\n",
       "      <th>2024-01-04</th>\n",
       "      <td>NaN</td>\n",
       "      <td>NaN</td>\n",
       "      <td>NaN</td>\n",
       "    </tr>\n",
       "    <tr>\n",
       "      <th>2024-01-05</th>\n",
       "      <td>1936.0</td>\n",
       "      <td>637.33</td>\n",
       "      <td>2.0</td>\n",
       "    </tr>\n",
       "  </tbody>\n",
       "</table>\n",
       "</div>"
      ],
      "text/plain": [
       "              fin_company_id  Sum_amt  Count\n",
       "fin_trans_dt                                \n",
       "2024-01-01            1936.0   908.73    3.0\n",
       "2024-01-02            1936.0   881.78    2.0\n",
       "2024-01-03            1936.0   623.17    2.0\n",
       "2024-01-04               NaN      NaN    NaN\n",
       "2024-01-05            1936.0   637.33    2.0"
      ]
     },
     "execution_count": 23,
     "metadata": {},
     "output_type": "execute_result"
    }
   ],
   "source": [
    "df_1.head()"
   ]
  },
  {
   "cell_type": "code",
   "execution_count": 24,
   "id": "a01f582c",
   "metadata": {},
   "outputs": [],
   "source": [
    "df_1 = df_1.fillna(method='ffill')"
   ]
  },
  {
   "cell_type": "code",
   "execution_count": 25,
   "id": "06e59b0e",
   "metadata": {},
   "outputs": [],
   "source": [
    "df_1.reset_index(inplace=True)\n",
    "\n",
    "# Rename the date index to a column named \"date\"\n",
    "df_1.rename(columns={'fin_trans_dt': 'date'}, inplace=True)"
   ]
  },
  {
   "cell_type": "code",
   "execution_count": 26,
   "id": "01d574d7",
   "metadata": {},
   "outputs": [],
   "source": [
    "df_1['fin_trans_date'] = df_1['date']"
   ]
  },
  {
   "cell_type": "code",
   "execution_count": 27,
   "id": "60ef3e01",
   "metadata": {},
   "outputs": [],
   "source": [
    "df_1.set_index('date',inplace=True)"
   ]
  },
  {
   "cell_type": "code",
   "execution_count": 28,
   "id": "d4f16af1",
   "metadata": {},
   "outputs": [],
   "source": [
    "df_1['year'] = df_1['fin_trans_date'].dt.year\n",
    "df_1['month'] = df_1['fin_trans_date'].dt.month\n",
    "df_1['day'] = df_1['fin_trans_date'].dt.day"
   ]
  },
  {
   "cell_type": "code",
   "execution_count": 29,
   "id": "ef9db626",
   "metadata": {},
   "outputs": [
    {
     "data": {
      "text/plain": [
       "Index(['fin_company_id', 'Sum_amt', 'Count', 'fin_trans_date', 'year', 'month',\n",
       "       'day'],\n",
       "      dtype='object')"
      ]
     },
     "execution_count": 29,
     "metadata": {},
     "output_type": "execute_result"
    }
   ],
   "source": [
    "df_1.columns"
   ]
  },
  {
   "cell_type": "code",
   "execution_count": 30,
   "id": "8fddc904",
   "metadata": {},
   "outputs": [
    {
     "name": "stdout",
     "output_type": "stream",
     "text": [
      "<class 'pandas.core.frame.DataFrame'>\n",
      "DatetimeIndex: 366 entries, 2024-01-01 to 2024-12-31\n",
      "Data columns (total 7 columns):\n",
      " #   Column          Non-Null Count  Dtype         \n",
      "---  ------          --------------  -----         \n",
      " 0   fin_company_id  366 non-null    float64       \n",
      " 1   Sum_amt         366 non-null    float64       \n",
      " 2   Count           366 non-null    float64       \n",
      " 3   fin_trans_date  366 non-null    datetime64[ns]\n",
      " 4   year            366 non-null    int32         \n",
      " 5   month           366 non-null    int32         \n",
      " 6   day             366 non-null    int32         \n",
      "dtypes: datetime64[ns](1), float64(3), int32(3)\n",
      "memory usage: 18.6 KB\n"
     ]
    }
   ],
   "source": [
    "df_1.info()"
   ]
  },
  {
   "cell_type": "code",
   "execution_count": 31,
   "id": "c04b6bcc",
   "metadata": {},
   "outputs": [],
   "source": [
    "#Splitting data\n",
    "size = int(len(df_1)*0.8)\n",
    "df_train,df_test = df_1.iloc[:size],df_1.iloc[size:]"
   ]
  },
  {
   "cell_type": "code",
   "execution_count": 32,
   "id": "1b4e2f3c",
   "metadata": {},
   "outputs": [],
   "source": [
    "import statsmodels.graphics.tsaplots as sgt\n",
    "import statsmodels.tsa.stattools as sts\n",
    "from statsmodels.tsa.arima.model import ARIMA"
   ]
  },
  {
   "cell_type": "code",
   "execution_count": 33,
   "id": "d33f8c72",
   "metadata": {},
   "outputs": [
    {
     "data": {
      "image/png": "[encoded data removed]",
      "text/plain": [
       "<Figure size 640x480 with 1 Axes>"
      ]
     },
     "metadata": {},
     "output_type": "display_data"
    }
   ],
   "source": [
    "sgt.plot_acf(df_train['Sum_amt'],zero=False,lags=40)\n",
    "plt.title('ACF of Transactions',size=20)\n",
    "plt.ylim(-0.5,0.5)\n",
    "plt.show()"
   ]
  },
  {
   "cell_type": "code",
   "execution_count": 34,
   "id": "3af81df5",
   "metadata": {},
   "outputs": [
    {
     "data": {
      "image/png": "[encoded data removed]",
      "text/plain": [
       "<Figure size 640x480 with 1 Axes>"
      ]
     },
     "metadata": {},
     "output_type": "display_data"
    }
   ],
   "source": [
    "sgt.plot_pacf(df_train['Sum_amt'],zero=False,lags=40,method='ols')\n",
    "plt.title('PACF of Transactions',size=20)\n",
    "plt.ylim(-0.5,0.5)\n",
    "plt.show()"
   ]
  },
  {
   "cell_type": "code",
   "execution_count": 35,
   "id": "99cba39a",
   "metadata": {},
   "outputs": [
    {
     "data": {
      "text/plain": [
       "(-12.866356068498014,\n",
       " 4.985564383994815e-24,\n",
       " 0,\n",
       " 291,\n",
       " {'1%': -3.4530232710482367,\n",
       "  '5%': -2.871523926671883,\n",
       "  '10%': -2.5720897694878424},\n",
       " 3914.1143048373087)"
      ]
     },
     "execution_count": 35,
     "metadata": {},
     "output_type": "execute_result"
    }
   ],
   "source": [
    "sts.adfuller(df_train['Sum_amt'])"
   ]
  },
  {
   "cell_type": "code",
   "execution_count": 36,
   "id": "65bce18d",
   "metadata": {},
   "outputs": [
    {
     "data": {
      "text/html": [
       "<div>\n",
       "<style scoped>\n",
       "    .dataframe tbody tr th:only-of-type {\n",
       "        vertical-align: middle;\n",
       "    }\n",
       "\n",
       "    .dataframe tbody tr th {\n",
       "        vertical-align: top;\n",
       "    }\n",
       "\n",
       "    .dataframe thead th {\n",
       "        text-align: right;\n",
       "    }\n",
       "</style>\n",
       "<table border=\"1\" class=\"dataframe\">\n",
       "  <thead>\n",
       "    <tr style=\"text-align: right;\">\n",
       "      <th></th>\n",
       "      <th>fin_company_id</th>\n",
       "      <th>Sum_amt</th>\n",
       "      <th>Count</th>\n",
       "      <th>fin_trans_date</th>\n",
       "      <th>year</th>\n",
       "      <th>month</th>\n",
       "      <th>day</th>\n",
       "    </tr>\n",
       "    <tr>\n",
       "      <th>date</th>\n",
       "      <th></th>\n",
       "      <th></th>\n",
       "      <th></th>\n",
       "      <th></th>\n",
       "      <th></th>\n",
       "      <th></th>\n",
       "      <th></th>\n",
       "    </tr>\n",
       "  </thead>\n",
       "  <tbody>\n",
       "    <tr>\n",
       "      <th>2024-12-27</th>\n",
       "      <td>1936.0</td>\n",
       "      <td>1044.85</td>\n",
       "      <td>5.0</td>\n",
       "      <td>2024-12-27</td>\n",
       "      <td>2024</td>\n",
       "      <td>12</td>\n",
       "      <td>27</td>\n",
       "    </tr>\n",
       "    <tr>\n",
       "      <th>2024-12-28</th>\n",
       "      <td>1936.0</td>\n",
       "      <td>176.80</td>\n",
       "      <td>1.0</td>\n",
       "      <td>2024-12-28</td>\n",
       "      <td>2024</td>\n",
       "      <td>12</td>\n",
       "      <td>28</td>\n",
       "    </tr>\n",
       "    <tr>\n",
       "      <th>2024-12-29</th>\n",
       "      <td>1936.0</td>\n",
       "      <td>409.83</td>\n",
       "      <td>2.0</td>\n",
       "      <td>2024-12-29</td>\n",
       "      <td>2024</td>\n",
       "      <td>12</td>\n",
       "      <td>29</td>\n",
       "    </tr>\n",
       "    <tr>\n",
       "      <th>2024-12-30</th>\n",
       "      <td>1936.0</td>\n",
       "      <td>396.65</td>\n",
       "      <td>1.0</td>\n",
       "      <td>2024-12-30</td>\n",
       "      <td>2024</td>\n",
       "      <td>12</td>\n",
       "      <td>30</td>\n",
       "    </tr>\n",
       "    <tr>\n",
       "      <th>2024-12-31</th>\n",
       "      <td>1936.0</td>\n",
       "      <td>1529.64</td>\n",
       "      <td>4.0</td>\n",
       "      <td>2024-12-31</td>\n",
       "      <td>2024</td>\n",
       "      <td>12</td>\n",
       "      <td>31</td>\n",
       "    </tr>\n",
       "  </tbody>\n",
       "</table>\n",
       "</div>"
      ],
      "text/plain": [
       "            fin_company_id  Sum_amt  Count fin_trans_date  year  month  day\n",
       "date                                                                       \n",
       "2024-12-27          1936.0  1044.85    5.0     2024-12-27  2024     12   27\n",
       "2024-12-28          1936.0   176.80    1.0     2024-12-28  2024     12   28\n",
       "2024-12-29          1936.0   409.83    2.0     2024-12-29  2024     12   29\n",
       "2024-12-30          1936.0   396.65    1.0     2024-12-30  2024     12   30\n",
       "2024-12-31          1936.0  1529.64    4.0     2024-12-31  2024     12   31"
      ]
     },
     "execution_count": 36,
     "metadata": {},
     "output_type": "execute_result"
    }
   ],
   "source": [
    "df_test.tail()"
   ]
  },
  {
   "cell_type": "code",
   "execution_count": 37,
   "id": "35121ca3",
   "metadata": {},
   "outputs": [],
   "source": [
    "#set start and end date\n",
    "\n",
    "start_date = \"2024-10-19\"\n",
    "end_date = \"2024-12-31\""
   ]
  },
  {
   "cell_type": "code",
   "execution_count": 38,
   "id": "66b4fbcd",
   "metadata": {
    "scrolled": false
   },
   "outputs": [
    {
     "name": "stderr",
     "output_type": "stream",
     "text": [
      "D:\\Users\\vtpavithra\\AppData\\Local\\anaconda3\\Lib\\site-packages\\statsmodels\\tsa\\base\\tsa_model.py:473: ValueWarning: No frequency information was provided, so inferred frequency D will be used.\n",
      "  self._init_dates(dates, freq)\n",
      "D:\\Users\\vtpavithra\\AppData\\Local\\anaconda3\\Lib\\site-packages\\statsmodels\\tsa\\base\\tsa_model.py:473: ValueWarning: No frequency information was provided, so inferred frequency D will be used.\n",
      "  self._init_dates(dates, freq)\n",
      "D:\\Users\\vtpavithra\\AppData\\Local\\anaconda3\\Lib\\site-packages\\statsmodels\\tsa\\base\\tsa_model.py:473: ValueWarning: No frequency information was provided, so inferred frequency D will be used.\n",
      "  self._init_dates(dates, freq)\n",
      "D:\\Users\\vtpavithra\\AppData\\Local\\anaconda3\\Lib\\site-packages\\statsmodels\\tsa\\statespace\\sarimax.py:966: UserWarning: Non-stationary starting autoregressive parameters found. Using zeros as starting parameters.\n",
      "  warn('Non-stationary starting autoregressive parameters'\n",
      "D:\\Users\\vtpavithra\\AppData\\Local\\anaconda3\\Lib\\site-packages\\statsmodels\\tsa\\statespace\\sarimax.py:978: UserWarning: Non-invertible starting MA parameters found. Using zeros as starting parameters.\n",
      "  warn('Non-invertible starting MA parameters found.'\n",
      "D:\\Users\\vtpavithra\\AppData\\Local\\anaconda3\\Lib\\site-packages\\statsmodels\\base\\model.py:607: ConvergenceWarning: Maximum Likelihood optimization failed to converge. Check mle_retvals\n",
      "  warnings.warn(\"Maximum Likelihood optimization failed to \"\n"
     ]
    },
    {
     "name": "stdout",
     "output_type": "stream",
     "text": [
      "                               SARIMAX Results                                \n",
      "==============================================================================\n",
      "Dep. Variable:                Sum_amt   No. Observations:                  292\n",
      "Model:               ARIMA(25, 1, 24)   Log Likelihood               -1915.301\n",
      "Date:                Thu, 07 Mar 2024   AIC                           3936.602\n",
      "Time:                        10:42:31   BIC                           4131.289\n",
      "Sample:                    01-01-2024   HQIC                          4014.595\n",
      "                         - 10-18-2024                                         \n",
      "Covariance Type:                  opg                                         \n",
      "==============================================================================\n",
      "                 coef    std err          z      P>|z|      [0.025      0.975]\n",
      "------------------------------------------------------------------------------\n",
      "month         -1.2352     13.294     -0.093      0.926     -27.292      24.821\n",
      "day           -4.2721      2.165     -1.974      0.048      -8.515      -0.030\n",
      "Count        245.8779     13.086     18.790      0.000     220.231     271.525\n",
      "ar.L1         -0.8187      1.574     -0.520      0.603      -3.904       2.267\n",
      "ar.L2         -0.6431      2.496     -0.258      0.797      -5.535       4.249\n",
      "ar.L3         -0.6170      2.834     -0.218      0.828      -6.171       4.937\n",
      "ar.L4         -0.4614      2.768     -0.167      0.868      -5.887       4.964\n",
      "ar.L5         -0.6511      2.089     -0.312      0.755      -4.746       3.444\n",
      "ar.L6         -0.4933      1.804     -0.273      0.785      -4.029       3.043\n",
      "ar.L7         -0.5839      1.855     -0.315      0.753      -4.220       3.052\n",
      "ar.L8         -0.8144      2.019     -0.403      0.687      -4.771       3.142\n",
      "ar.L9         -0.8543      2.319     -0.368      0.713      -5.400       3.692\n",
      "ar.L10        -0.8264      2.508     -0.330      0.742      -5.741       4.088\n",
      "ar.L11        -0.6264      2.773     -0.226      0.821      -6.062       4.809\n",
      "ar.L12        -0.6873      2.759     -0.249      0.803      -6.094       4.720\n",
      "ar.L13        -0.6165      2.488     -0.248      0.804      -5.493       4.260\n",
      "ar.L14        -0.5069      2.199     -0.231      0.818      -4.816       3.803\n",
      "ar.L15        -0.0291      1.955     -0.015      0.988      -3.861       3.803\n",
      "ar.L16        -0.5247      1.560     -0.336      0.737      -3.583       2.534\n",
      "ar.L17        -0.6297      1.261     -0.500      0.617      -3.101       1.841\n",
      "ar.L18        -0.5204      1.543     -0.337      0.736      -3.544       2.504\n",
      "ar.L19        -0.5455      1.935     -0.282      0.778      -4.337       3.246\n",
      "ar.L20        -0.1986      2.149     -0.092      0.926      -4.412       4.014\n",
      "ar.L21        -0.1021      1.880     -0.054      0.957      -3.787       3.583\n",
      "ar.L22         0.0025      1.207      0.002      0.998      -2.363       2.368\n",
      "ar.L23         0.0537      0.369      0.146      0.884      -0.669       0.777\n",
      "ar.L24        -0.0462      0.143     -0.324      0.746      -0.326       0.233\n",
      "ar.L25         0.1103      0.183      0.604      0.546      -0.247       0.468\n",
      "ma.L1          0.1394      1.919      0.073      0.942      -3.621       3.900\n",
      "ma.L2         -0.1459      2.072     -0.070      0.944      -4.207       3.915\n",
      "ma.L3         -0.1074      2.014     -0.053      0.957      -4.055       3.840\n",
      "ma.L4         -0.1454      1.638     -0.089      0.929      -3.355       3.065\n",
      "ma.L5          0.1791      1.061      0.169      0.866      -1.900       2.258\n",
      "ma.L6         -0.0043      1.244     -0.003      0.997      -2.442       2.434\n",
      "ma.L7          0.0989      1.120      0.088      0.930      -2.097       2.295\n",
      "ma.L8          0.1816      1.290      0.141      0.888      -2.347       2.710\n",
      "ma.L9          0.1679      1.404      0.120      0.905      -2.584       2.920\n",
      "ma.L10        -0.0717      1.455     -0.049      0.961      -2.923       2.780\n",
      "ma.L11        -0.1655      1.420     -0.117      0.907      -2.948       2.617\n",
      "ma.L12        -0.0209      1.270     -0.016      0.987      -2.510       2.468\n",
      "ma.L13         0.0012      1.133      0.001      0.999      -2.220       2.222\n",
      "ma.L14        -0.1106      1.061     -0.104      0.917      -2.189       1.968\n",
      "ma.L15        -0.5343      1.000     -0.534      0.593      -2.494       1.426\n",
      "ma.L16         0.4019      1.122      0.358      0.720      -1.798       2.602\n",
      "ma.L17         0.2530      1.008      0.251      0.802      -1.723       2.230\n",
      "ma.L18        -0.0415      1.471     -0.028      0.977      -2.924       2.841\n",
      "ma.L19        -0.1099      1.431     -0.077      0.939      -2.915       2.695\n",
      "ma.L20        -0.4761      1.529     -0.311      0.756      -3.473       2.521\n",
      "ma.L21        -0.2738      1.379     -0.199      0.843      -2.977       2.430\n",
      "ma.L22        -0.1502      1.316     -0.114      0.909      -2.730       2.430\n",
      "ma.L23        -0.0654      1.421     -0.046      0.963      -2.851       2.720\n",
      "ma.L24         0.0036      0.866      0.004      0.997      -1.694       1.701\n",
      "sigma2      3.006e+04      3e+04      1.004      0.316   -2.86e+04    8.88e+04\n",
      "===================================================================================\n",
      "Ljung-Box (L1) (Q):                   0.16   Jarque-Bera (JB):                 3.08\n",
      "Prob(Q):                              0.69   Prob(JB):                         0.21\n",
      "Heteroskedasticity (H):               0.83   Skew:                             0.22\n",
      "Prob(H) (two-sided):                  0.35   Kurtosis:                         3.26\n",
      "===================================================================================\n",
      "\n",
      "Warnings:\n",
      "[1] Covariance matrix calculated using the outer product of gradients (complex-step).\n"
     ]
    },
    {
     "data": {
      "image/png": "[encoded data removed]",
      "text/plain": [
       "<Figure size 2000x500 with 1 Axes>"
      ]
     },
     "metadata": {},
     "output_type": "display_data"
    }
   ],
   "source": [
    "#ARIMAX(1,1,1)\n",
    "\n",
    "start_date = \"2024-10-19\"\n",
    "end_date = \"2024-12-31\"\n",
    "\n",
    "model_ar_1_i_ma_1 = ARIMA(df_train['Sum_amt'],order=(25,1,24),exog=df_train[['month','day','Count']])\n",
    "results_ar_1_i_ma_1 = model_ar_1_i_ma_1.fit()\n",
    "print(results_ar_1_i_ma_1.summary())\n",
    "\n",
    "df_pred_ar_1_i_ma_1 = results_ar_1_i_ma_1.predict(start=start_date,end=end_date,exog=df_test[['month','day','Count']][start_date:end_date])\n",
    "\n",
    "df_pred_ar_1_i_ma_1[start_date:end_date].plot(figsize=(20,5),color=\"red\")\n",
    "df_test.Sum_amt[start_date:end_date].plot(color=\"blue\")\n",
    "plt.title(\"Predictions vs Actual values\",size=24)\n",
    "plt.show()"
   ]
  },
  {
   "cell_type": "code",
   "execution_count": 49,
   "id": "f1c1b901",
   "metadata": {},
   "outputs": [],
   "source": [
    "df_1_ap = pd.DataFrame([df_test.Sum_amt[start_date:end_date],df_pred_ar_1_i_ma_1[start_date:end_date]])"
   ]
  },
  {
   "cell_type": "code",
   "execution_count": 61,
   "id": "65484756",
   "metadata": {},
   "outputs": [
    {
     "ename": "AttributeError",
     "evalue": "'NoneType' object has no attribute 'transpose'",
     "output_type": "error",
     "traceback": [
      "\u001b[1;31m---------------------------------------------------------------------------\u001b[0m",
      "\u001b[1;31mAttributeError\u001b[0m                            Traceback (most recent call last)",
      "Cell \u001b[1;32mIn[61], line 1\u001b[0m\n\u001b[1;32m----> 1\u001b[0m df_1_ap\u001b[38;5;241m.\u001b[39mtranspose()\n",
      "\u001b[1;31mAttributeError\u001b[0m: 'NoneType' object has no attribute 'transpose'"
     ]
    }
   ],
   "source": [
    "df_1_ap.transpose()"
   ]
  },
  {
   "cell_type": "code",
   "execution_count": 60,
   "id": "44867fad",
   "metadata": {},
   "outputs": [],
   "source": [
    "df_1_ap"
   ]
  },
  {
   "cell_type": "code",
   "execution_count": 42,
   "id": "0bfc6e5a",
   "metadata": {
    "scrolled": true
   },
   "outputs": [
    {
     "name": "stdout",
     "output_type": "stream",
     "text": [
      "2024-10-19    465.146504\n",
      "2024-10-20    391.605724\n",
      "2024-10-21    183.909884\n",
      "2024-10-22    418.188783\n",
      "2024-10-23    527.429886\n",
      "2024-10-24    998.628653\n",
      "2024-10-25    479.893799\n",
      "2024-10-26    104.884888\n",
      "2024-10-27    237.817553\n",
      "2024-10-28    160.640795\n",
      "2024-10-29    104.703403\n",
      "Freq: D, Name: predicted_mean, dtype: float64\n"
     ]
    }
   ],
   "source": [
    "print(df_pred_ar_1_i_ma_1[start_date:end_date])"
   ]
  },
  {
   "cell_type": "code",
   "execution_count": 43,
   "id": "76d0caf6",
   "metadata": {},
   "outputs": [
    {
     "name": "stdout",
     "output_type": "stream",
     "text": [
      "date\n",
      "2024-10-19    749.69\n",
      "2024-10-20    749.69\n",
      "2024-10-21    317.29\n",
      "2024-10-22    413.15\n",
      "2024-10-23    413.15\n",
      "2024-10-24    729.14\n",
      "2024-10-25    665.16\n",
      "2024-10-26    118.89\n",
      "2024-10-27    245.18\n",
      "2024-10-28    245.18\n",
      "2024-10-29     81.74\n",
      "Name: Sum_amt, dtype: float64\n"
     ]
    }
   ],
   "source": [
    "print(df_test.Sum_amt[start_date:end_date])"
   ]
  },
  {
   "cell_type": "code",
   "execution_count": 35,
   "id": "ddadade0",
   "metadata": {},
   "outputs": [
    {
     "data": {
      "text/html": [
       "<div>\n",
       "<style scoped>\n",
       "    .dataframe tbody tr th:only-of-type {\n",
       "        vertical-align: middle;\n",
       "    }\n",
       "\n",
       "    .dataframe tbody tr th {\n",
       "        vertical-align: top;\n",
       "    }\n",
       "\n",
       "    .dataframe thead th {\n",
       "        text-align: right;\n",
       "    }\n",
       "</style>\n",
       "<table border=\"1\" class=\"dataframe\">\n",
       "  <thead>\n",
       "    <tr style=\"text-align: right;\">\n",
       "      <th></th>\n",
       "      <th>fin_trans_dt</th>\n",
       "      <th>fin_company_id</th>\n",
       "      <th>Sum_amt</th>\n",
       "      <th>Count</th>\n",
       "    </tr>\n",
       "  </thead>\n",
       "  <tbody>\n",
       "    <tr>\n",
       "      <th>1</th>\n",
       "      <td>2024-01-01</td>\n",
       "      <td>2001</td>\n",
       "      <td>318.81</td>\n",
       "      <td>1</td>\n",
       "    </tr>\n",
       "    <tr>\n",
       "      <th>3</th>\n",
       "      <td>2024-01-02</td>\n",
       "      <td>2001</td>\n",
       "      <td>1082.13</td>\n",
       "      <td>3</td>\n",
       "    </tr>\n",
       "    <tr>\n",
       "      <th>5</th>\n",
       "      <td>2024-01-03</td>\n",
       "      <td>2001</td>\n",
       "      <td>477.02</td>\n",
       "      <td>3</td>\n",
       "    </tr>\n",
       "    <tr>\n",
       "      <th>6</th>\n",
       "      <td>2024-01-04</td>\n",
       "      <td>2001</td>\n",
       "      <td>251.85</td>\n",
       "      <td>1</td>\n",
       "    </tr>\n",
       "    <tr>\n",
       "      <th>8</th>\n",
       "      <td>2024-01-05</td>\n",
       "      <td>2001</td>\n",
       "      <td>398.50</td>\n",
       "      <td>1</td>\n",
       "    </tr>\n",
       "  </tbody>\n",
       "</table>\n",
       "</div>"
      ],
      "text/plain": [
       "  fin_trans_dt  fin_company_id  Sum_amt  Count\n",
       "1   2024-01-01            2001   318.81      1\n",
       "3   2024-01-02            2001  1082.13      3\n",
       "5   2024-01-03            2001   477.02      3\n",
       "6   2024-01-04            2001   251.85      1\n",
       "8   2024-01-05            2001   398.50      1"
      ]
     },
     "execution_count": 35,
     "metadata": {},
     "output_type": "execute_result"
    }
   ],
   "source": [
    "df_2.head()"
   ]
  },
  {
   "cell_type": "code",
   "execution_count": 36,
   "id": "5fb2d9a6",
   "metadata": {},
   "outputs": [],
   "source": [
    "df_2 = df_2.sort_values('fin_trans_dt')"
   ]
  },
  {
   "cell_type": "code",
   "execution_count": 37,
   "id": "b535fe5e",
   "metadata": {},
   "outputs": [],
   "source": [
    "df_2.set_index('fin_trans_dt',inplace=True)"
   ]
  },
  {
   "cell_type": "code",
   "execution_count": 38,
   "id": "88c27dbf",
   "metadata": {},
   "outputs": [],
   "source": [
    "df_2 = df_2.asfreq('d')"
   ]
  },
  {
   "cell_type": "code",
   "execution_count": 39,
   "id": "05b1fd83",
   "metadata": {
    "scrolled": true
   },
   "outputs": [
    {
     "data": {
      "text/html": [
       "<div>\n",
       "<style scoped>\n",
       "    .dataframe tbody tr th:only-of-type {\n",
       "        vertical-align: middle;\n",
       "    }\n",
       "\n",
       "    .dataframe tbody tr th {\n",
       "        vertical-align: top;\n",
       "    }\n",
       "\n",
       "    .dataframe thead th {\n",
       "        text-align: right;\n",
       "    }\n",
       "</style>\n",
       "<table border=\"1\" class=\"dataframe\">\n",
       "  <thead>\n",
       "    <tr style=\"text-align: right;\">\n",
       "      <th></th>\n",
       "      <th>fin_company_id</th>\n",
       "      <th>Sum_amt</th>\n",
       "      <th>Count</th>\n",
       "    </tr>\n",
       "    <tr>\n",
       "      <th>fin_trans_dt</th>\n",
       "      <th></th>\n",
       "      <th></th>\n",
       "      <th></th>\n",
       "    </tr>\n",
       "  </thead>\n",
       "  <tbody>\n",
       "    <tr>\n",
       "      <th>2024-01-01</th>\n",
       "      <td>2001.0</td>\n",
       "      <td>318.81</td>\n",
       "      <td>1.0</td>\n",
       "    </tr>\n",
       "    <tr>\n",
       "      <th>2024-01-02</th>\n",
       "      <td>2001.0</td>\n",
       "      <td>1082.13</td>\n",
       "      <td>3.0</td>\n",
       "    </tr>\n",
       "    <tr>\n",
       "      <th>2024-01-03</th>\n",
       "      <td>2001.0</td>\n",
       "      <td>477.02</td>\n",
       "      <td>3.0</td>\n",
       "    </tr>\n",
       "    <tr>\n",
       "      <th>2024-01-04</th>\n",
       "      <td>2001.0</td>\n",
       "      <td>251.85</td>\n",
       "      <td>1.0</td>\n",
       "    </tr>\n",
       "    <tr>\n",
       "      <th>2024-01-05</th>\n",
       "      <td>2001.0</td>\n",
       "      <td>398.50</td>\n",
       "      <td>1.0</td>\n",
       "    </tr>\n",
       "  </tbody>\n",
       "</table>\n",
       "</div>"
      ],
      "text/plain": [
       "              fin_company_id  Sum_amt  Count\n",
       "fin_trans_dt                                \n",
       "2024-01-01            2001.0   318.81    1.0\n",
       "2024-01-02            2001.0  1082.13    3.0\n",
       "2024-01-03            2001.0   477.02    3.0\n",
       "2024-01-04            2001.0   251.85    1.0\n",
       "2024-01-05            2001.0   398.50    1.0"
      ]
     },
     "execution_count": 39,
     "metadata": {},
     "output_type": "execute_result"
    }
   ],
   "source": [
    "df_2.head()"
   ]
  },
  {
   "cell_type": "code",
   "execution_count": 40,
   "id": "d735930e",
   "metadata": {},
   "outputs": [],
   "source": [
    "df_2 = df_2.fillna(method='ffill')"
   ]
  },
  {
   "cell_type": "code",
   "execution_count": 41,
   "id": "85dde2b8",
   "metadata": {},
   "outputs": [],
   "source": [
    "#Splitting data\n",
    "size = int(len(df_2)*0.8)\n",
    "df_2_train,df_2_test = df_2.iloc[:size],df_2.iloc[size:]"
   ]
  },
  {
   "cell_type": "code",
   "execution_count": 42,
   "id": "8c90e21b",
   "metadata": {},
   "outputs": [
    {
     "data": {
      "image/png": "[encoded data removed]",
      "text/plain": [
       "<Figure size 640x480 with 1 Axes>"
      ]
     },
     "metadata": {},
     "output_type": "display_data"
    }
   ],
   "source": [
    "sgt.plot_acf(df_2_train['Sum_amt'],zero=False,lags=40)\n",
    "plt.title('ACF of Transactions',size=20)\n",
    "plt.ylim(-0.5,0.5)\n",
    "plt.show()"
   ]
  },
  {
   "cell_type": "code",
   "execution_count": 43,
   "id": "bf9bb13a",
   "metadata": {},
   "outputs": [
    {
     "data": {
      "image/png": "[encoded data removed]",
      "text/plain": [
       "<Figure size 640x480 with 1 Axes>"
      ]
     },
     "metadata": {},
     "output_type": "display_data"
    }
   ],
   "source": [
    "sgt.plot_pacf(df_2_train['Sum_amt'],zero=False,lags=40,method='ols')\n",
    "plt.title('PACF of Transactions',size=20)\n",
    "plt.ylim(-0.5,0.5)\n",
    "plt.show()"
   ]
  },
  {
   "cell_type": "code",
   "execution_count": 44,
   "id": "2663a3ed",
   "metadata": {
    "scrolled": true
   },
   "outputs": [
    {
     "data": {
      "text/plain": [
       "(-14.481720041341053,\n",
       " 6.356436845190534e-27,\n",
       " 0,\n",
       " 291,\n",
       " {'1%': -3.4530232710482367,\n",
       "  '5%': -2.871523926671883,\n",
       "  '10%': -2.5720897694878424},\n",
       " 3821.0808176203473)"
      ]
     },
     "execution_count": 44,
     "metadata": {},
     "output_type": "execute_result"
    }
   ],
   "source": [
    "sts.adfuller(df_2_train['Sum_amt'])"
   ]
  },
  {
   "cell_type": "code",
   "execution_count": 45,
   "id": "634292f0",
   "metadata": {},
   "outputs": [
    {
     "data": {
      "text/html": [
       "<div>\n",
       "<style scoped>\n",
       "    .dataframe tbody tr th:only-of-type {\n",
       "        vertical-align: middle;\n",
       "    }\n",
       "\n",
       "    .dataframe tbody tr th {\n",
       "        vertical-align: top;\n",
       "    }\n",
       "\n",
       "    .dataframe thead th {\n",
       "        text-align: right;\n",
       "    }\n",
       "</style>\n",
       "<table border=\"1\" class=\"dataframe\">\n",
       "  <thead>\n",
       "    <tr style=\"text-align: right;\">\n",
       "      <th></th>\n",
       "      <th>fin_company_id</th>\n",
       "      <th>Sum_amt</th>\n",
       "      <th>Count</th>\n",
       "    </tr>\n",
       "    <tr>\n",
       "      <th>fin_trans_dt</th>\n",
       "      <th></th>\n",
       "      <th></th>\n",
       "      <th></th>\n",
       "    </tr>\n",
       "  </thead>\n",
       "  <tbody>\n",
       "    <tr>\n",
       "      <th>2024-12-27</th>\n",
       "      <td>2001.0</td>\n",
       "      <td>593.63</td>\n",
       "      <td>2.0</td>\n",
       "    </tr>\n",
       "    <tr>\n",
       "      <th>2024-12-28</th>\n",
       "      <td>2001.0</td>\n",
       "      <td>430.34</td>\n",
       "      <td>1.0</td>\n",
       "    </tr>\n",
       "    <tr>\n",
       "      <th>2024-12-29</th>\n",
       "      <td>2001.0</td>\n",
       "      <td>400.83</td>\n",
       "      <td>1.0</td>\n",
       "    </tr>\n",
       "    <tr>\n",
       "      <th>2024-12-30</th>\n",
       "      <td>2001.0</td>\n",
       "      <td>400.83</td>\n",
       "      <td>1.0</td>\n",
       "    </tr>\n",
       "    <tr>\n",
       "      <th>2024-12-31</th>\n",
       "      <td>2001.0</td>\n",
       "      <td>343.41</td>\n",
       "      <td>2.0</td>\n",
       "    </tr>\n",
       "  </tbody>\n",
       "</table>\n",
       "</div>"
      ],
      "text/plain": [
       "              fin_company_id  Sum_amt  Count\n",
       "fin_trans_dt                                \n",
       "2024-12-27            2001.0   593.63    2.0\n",
       "2024-12-28            2001.0   430.34    1.0\n",
       "2024-12-29            2001.0   400.83    1.0\n",
       "2024-12-30            2001.0   400.83    1.0\n",
       "2024-12-31            2001.0   343.41    2.0"
      ]
     },
     "execution_count": 45,
     "metadata": {},
     "output_type": "execute_result"
    }
   ],
   "source": [
    "df_2_test.tail()"
   ]
  },
  {
   "cell_type": "code",
   "execution_count": null,
   "id": "e587f277",
   "metadata": {},
   "outputs": [],
   "source": []
  },
  {
   "cell_type": "code",
   "execution_count": 46,
   "id": "492395cb",
   "metadata": {},
   "outputs": [],
   "source": [
    "#set start and end date\n",
    "\n",
    "start_date = \"2024-10-19\"\n",
    "end_date = \"2024-12-31\""
   ]
  },
  {
   "cell_type": "code",
   "execution_count": 47,
   "id": "0094ca12",
   "metadata": {},
   "outputs": [
    {
     "name": "stdout",
     "output_type": "stream",
     "text": [
      "                               SARIMAX Results                                \n",
      "==============================================================================\n",
      "Dep. Variable:                Sum_amt   No. Observations:                  292\n",
      "Model:                 ARIMA(1, 1, 1)   Log Likelihood               -1902.875\n",
      "Date:                Tue, 05 Mar 2024   AIC                           3813.750\n",
      "Time:                        23:57:11   BIC                           3828.444\n",
      "Sample:                    01-01-2024   HQIC                          3819.636\n",
      "                         - 10-18-2024                                         \n",
      "Covariance Type:                  opg                                         \n",
      "==============================================================================\n",
      "                 coef    std err          z      P>|z|      [0.025      0.975]\n",
      "------------------------------------------------------------------------------\n",
      "Count        241.5590     11.129     21.704      0.000     219.746     263.372\n",
      "ar.L1          0.2164      0.053      4.045      0.000       0.112       0.321\n",
      "ma.L1         -0.9998      0.498     -2.007      0.045      -1.976      -0.023\n",
      "sigma2      2.752e+04   1.43e+04      1.924      0.054    -514.416    5.55e+04\n",
      "===================================================================================\n",
      "Ljung-Box (L1) (Q):                   0.03   Jarque-Bera (JB):                 3.40\n",
      "Prob(Q):                              0.87   Prob(JB):                         0.18\n",
      "Heteroskedasticity (H):               0.76   Skew:                             0.26\n",
      "Prob(H) (two-sided):                  0.17   Kurtosis:                         3.02\n",
      "===================================================================================\n",
      "\n",
      "Warnings:\n",
      "[1] Covariance matrix calculated using the outer product of gradients (complex-step).\n"
     ]
    },
    {
     "data": {
      "image/png": "[encoded data removed]",
      "text/plain": [
       "<Figure size 2000x500 with 1 Axes>"
      ]
     },
     "metadata": {},
     "output_type": "display_data"
    }
   ],
   "source": [
    "#ARIMAX(1,1,1)\n",
    "\n",
    "model_2_ar_1_i_ma_1 = ARIMA(df_2_train['Sum_amt'],order=(1,1,1),exog=df_2_train['Count'])\n",
    "results_2_ar_1_i_ma_1 = model_2_ar_1_i_ma_1.fit()\n",
    "print(results_2_ar_1_i_ma_1.summary())\n",
    "\n",
    "df_pred_2_ar_1_i_ma_1 = results_2_ar_1_i_ma_1.predict(start=start_date,end=end_date,exog=df_2_test['Count'][start_date:end_date])\n",
    "\n",
    "df_pred_2_ar_1_i_ma_1[start_date:end_date].plot(figsize=(20,5),color=\"red\")\n",
    "df_2_test.Sum_amt[start_date:end_date].plot(color=\"blue\")\n",
    "plt.title(\"Predictions vs Actual values\",size=24)\n",
    "plt.show()"
   ]
  },
  {
   "cell_type": "code",
   "execution_count": 48,
   "id": "cb2c1edc",
   "metadata": {},
   "outputs": [
    {
     "name": "stdout",
     "output_type": "stream",
     "text": [
      "2024-10-19    491.904022\n",
      "2024-10-20    486.400341\n",
      "2024-10-21    243.650398\n",
      "2024-10-22    243.392709\n",
      "2024-10-23    243.336950\n",
      "                 ...    \n",
      "2024-12-27    484.880599\n",
      "2024-12-28    243.321553\n",
      "2024-12-29    243.321553\n",
      "2024-12-30    243.321553\n",
      "2024-12-31    484.880599\n",
      "Freq: D, Name: predicted_mean, Length: 74, dtype: float64\n"
     ]
    }
   ],
   "source": [
    "print(df_pred_2_ar_1_i_ma_1[start_date:end_date])"
   ]
  },
  {
   "cell_type": "code",
   "execution_count": 49,
   "id": "e8a78791",
   "metadata": {},
   "outputs": [
    {
     "name": "stdout",
     "output_type": "stream",
     "text": [
      "fin_trans_dt\n",
      "2024-10-19    440.79\n",
      "2024-10-20    903.14\n",
      "2024-10-21    248.31\n",
      "2024-10-22    137.28\n",
      "2024-10-23    355.68\n",
      "               ...  \n",
      "2024-12-27    593.63\n",
      "2024-12-28    430.34\n",
      "2024-12-29    400.83\n",
      "2024-12-30    400.83\n",
      "2024-12-31    343.41\n",
      "Freq: D, Name: Sum_amt, Length: 74, dtype: float64\n"
     ]
    }
   ],
   "source": [
    "print(df_2_test.Sum_amt)"
   ]
  },
  {
   "cell_type": "code",
   "execution_count": 50,
   "id": "8a2f51ab",
   "metadata": {},
   "outputs": [],
   "source": [
    "from pmdarima.arima import auto_arima"
   ]
  },
  {
   "cell_type": "code",
   "execution_count": 53,
   "id": "1a763f08",
   "metadata": {},
   "outputs": [],
   "source": [
    "model_1 = auto_arima(df_train['Sum_amt'],start_p=1,start_q=1,start_P=1,start_Q=1,max_p=10,max_q=10,max_P=10,max_Q=10,max_order=20,seasonal=False)"
   ]
  },
  {
   "cell_type": "code",
   "execution_count": 54,
   "id": "39a51626",
   "metadata": {},
   "outputs": [
    {
     "data": {
      "text/html": [
       "<table class=\"simpletable\">\n",
       "<caption>SARIMAX Results</caption>\n",
       "<tr>\n",
       "  <th>Dep. Variable:</th>           <td>y</td>        <th>  No. Observations:  </th>    <td>292</td>   \n",
       "</tr>\n",
       "<tr>\n",
       "  <th>Model:</th>           <td>SARIMAX(0, 0, 1)</td> <th>  Log Likelihood     </th> <td>-2074.932</td>\n",
       "</tr>\n",
       "<tr>\n",
       "  <th>Date:</th>            <td>Wed, 06 Mar 2024</td> <th>  AIC                </th> <td>4155.865</td> \n",
       "</tr>\n",
       "<tr>\n",
       "  <th>Time:</th>                <td>00:02:51</td>     <th>  BIC                </th> <td>4166.895</td> \n",
       "</tr>\n",
       "<tr>\n",
       "  <th>Sample:</th>             <td>01-01-2024</td>    <th>  HQIC               </th> <td>4160.283</td> \n",
       "</tr>\n",
       "<tr>\n",
       "  <th></th>                   <td>- 10-18-2024</td>   <th>                     </th>     <td> </td>    \n",
       "</tr>\n",
       "<tr>\n",
       "  <th>Covariance Type:</th>        <td>opg</td>       <th>                     </th>     <td> </td>    \n",
       "</tr>\n",
       "</table>\n",
       "<table class=\"simpletable\">\n",
       "<tr>\n",
       "      <td></td>         <th>coef</th>     <th>std err</th>      <th>z</th>      <th>P>|z|</th>  <th>[0.025</th>    <th>0.975]</th>  \n",
       "</tr>\n",
       "<tr>\n",
       "  <th>intercept</th> <td>  446.8818</td> <td>   25.884</td> <td>   17.265</td> <td> 0.000</td> <td>  396.151</td> <td>  497.613</td>\n",
       "</tr>\n",
       "<tr>\n",
       "  <th>ma.L1</th>     <td>    0.2819</td> <td>    0.050</td> <td>    5.591</td> <td> 0.000</td> <td>    0.183</td> <td>    0.381</td>\n",
       "</tr>\n",
       "<tr>\n",
       "  <th>sigma2</th>    <td> 8.702e+04</td> <td> 6778.493</td> <td>   12.837</td> <td> 0.000</td> <td> 7.37e+04</td> <td>    1e+05</td>\n",
       "</tr>\n",
       "</table>\n",
       "<table class=\"simpletable\">\n",
       "<tr>\n",
       "  <th>Ljung-Box (L1) (Q):</th>     <td>0.02</td> <th>  Jarque-Bera (JB):  </th> <td>51.08</td>\n",
       "</tr>\n",
       "<tr>\n",
       "  <th>Prob(Q):</th>                <td>0.88</td> <th>  Prob(JB):          </th> <td>0.00</td> \n",
       "</tr>\n",
       "<tr>\n",
       "  <th>Heteroskedasticity (H):</th> <td>0.72</td> <th>  Skew:              </th> <td>0.88</td> \n",
       "</tr>\n",
       "<tr>\n",
       "  <th>Prob(H) (two-sided):</th>    <td>0.11</td> <th>  Kurtosis:          </th> <td>4.04</td> \n",
       "</tr>\n",
       "</table><br/><br/>Warnings:<br/>[1] Covariance matrix calculated using the outer product of gradients (complex-step)."
      ],
      "text/latex": [
       "\\begin{center}\n",
       "\\begin{tabular}{lclc}\n",
       "\\toprule\n",
       "\\textbf{Dep. Variable:}          &        y         & \\textbf{  No. Observations:  } &    292      \\\\\n",
       "\\textbf{Model:}                  & SARIMAX(0, 0, 1) & \\textbf{  Log Likelihood     } & -2074.932   \\\\\n",
       "\\textbf{Date:}                   & Wed, 06 Mar 2024 & \\textbf{  AIC                } &  4155.865   \\\\\n",
       "\\textbf{Time:}                   &     00:02:51     & \\textbf{  BIC                } &  4166.895   \\\\\n",
       "\\textbf{Sample:}                 &    01-01-2024    & \\textbf{  HQIC               } &  4160.283   \\\\\n",
       "\\textbf{}                        &   - 10-18-2024   & \\textbf{                     } &             \\\\\n",
       "\\textbf{Covariance Type:}        &       opg        & \\textbf{                     } &             \\\\\n",
       "\\bottomrule\n",
       "\\end{tabular}\n",
       "\\begin{tabular}{lcccccc}\n",
       "                   & \\textbf{coef} & \\textbf{std err} & \\textbf{z} & \\textbf{P$> |$z$|$} & \\textbf{[0.025} & \\textbf{0.975]}  \\\\\n",
       "\\midrule\n",
       "\\textbf{intercept} &     446.8818  &       25.884     &    17.265  &         0.000        &      396.151    &      497.613     \\\\\n",
       "\\textbf{ma.L1}     &       0.2819  &        0.050     &     5.591  &         0.000        &        0.183    &        0.381     \\\\\n",
       "\\textbf{sigma2}    &    8.702e+04  &     6778.493     &    12.837  &         0.000        &     7.37e+04    &        1e+05     \\\\\n",
       "\\bottomrule\n",
       "\\end{tabular}\n",
       "\\begin{tabular}{lclc}\n",
       "\\textbf{Ljung-Box (L1) (Q):}     & 0.02 & \\textbf{  Jarque-Bera (JB):  } & 51.08  \\\\\n",
       "\\textbf{Prob(Q):}                & 0.88 & \\textbf{  Prob(JB):          } &  0.00  \\\\\n",
       "\\textbf{Heteroskedasticity (H):} & 0.72 & \\textbf{  Skew:              } &  0.88  \\\\\n",
       "\\textbf{Prob(H) (two-sided):}    & 0.11 & \\textbf{  Kurtosis:          } &  4.04  \\\\\n",
       "\\bottomrule\n",
       "\\end{tabular}\n",
       "%\\caption{SARIMAX Results}\n",
       "\\end{center}\n",
       "\n",
       "Warnings: \\newline\n",
       " [1] Covariance matrix calculated using the outer product of gradients (complex-step)."
      ],
      "text/plain": [
       "<class 'statsmodels.iolib.summary.Summary'>\n",
       "\"\"\"\n",
       "                               SARIMAX Results                                \n",
       "==============================================================================\n",
       "Dep. Variable:                      y   No. Observations:                  292\n",
       "Model:               SARIMAX(0, 0, 1)   Log Likelihood               -2074.932\n",
       "Date:                Wed, 06 Mar 2024   AIC                           4155.865\n",
       "Time:                        00:02:51   BIC                           4166.895\n",
       "Sample:                    01-01-2024   HQIC                          4160.283\n",
       "                         - 10-18-2024                                         \n",
       "Covariance Type:                  opg                                         \n",
       "==============================================================================\n",
       "                 coef    std err          z      P>|z|      [0.025      0.975]\n",
       "------------------------------------------------------------------------------\n",
       "intercept    446.8818     25.884     17.265      0.000     396.151     497.613\n",
       "ma.L1          0.2819      0.050      5.591      0.000       0.183       0.381\n",
       "sigma2      8.702e+04   6778.493     12.837      0.000    7.37e+04       1e+05\n",
       "===================================================================================\n",
       "Ljung-Box (L1) (Q):                   0.02   Jarque-Bera (JB):                51.08\n",
       "Prob(Q):                              0.88   Prob(JB):                         0.00\n",
       "Heteroskedasticity (H):               0.72   Skew:                             0.88\n",
       "Prob(H) (two-sided):                  0.11   Kurtosis:                         4.04\n",
       "===================================================================================\n",
       "\n",
       "Warnings:\n",
       "[1] Covariance matrix calculated using the outer product of gradients (complex-step).\n",
       "\"\"\""
      ]
     },
     "execution_count": 54,
     "metadata": {},
     "output_type": "execute_result"
    }
   ],
   "source": [
    "model_1.summary()"
   ]
  },
  {
   "cell_type": "code",
   "execution_count": null,
   "id": "bc5c64b2",
   "metadata": {},
   "outputs": [],
   "source": []
  }
 ],
 "metadata": {
  "kernelspec": {
   "display_name": "Python 3 (ipykernel)",
   "language": "python",
   "name": "python3"
  },
  "language_info": {
   "codemirror_mode": {
    "name": "ipython",
    "version": 3
   },
   "file_extension": ".py",
   "mimetype": "text/x-python",
   "name": "python",
   "nbconvert_exporter": "python",
   "pygments_lexer": "ipython3",
   "version": "3.11.5"
  }
 },
 "nbformat": 4,
 "nbformat_minor": 5
}
